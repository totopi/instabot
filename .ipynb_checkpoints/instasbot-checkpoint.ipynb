{
 "cells": [
  {
   "cell_type": "code",
   "execution_count": 1,
   "metadata": {},
   "outputs": [],
   "source": [
    "from InstagramAPI import InstagramAPI\n",
    "import time"
   ]
  },
  {
   "cell_type": "code",
   "execution_count": 2,
   "metadata": {},
   "outputs": [
    {
     "name": "stdout",
     "output_type": "stream",
     "text": [
      "Request return 429 error!\n",
      "{'message': 'Please wait a few minutes before you try again.', 'status': 'fail'}\n",
      "Login success!\n",
      "\n"
     ]
    },
    {
     "data": {
      "text/plain": [
       "True"
      ]
     },
     "execution_count": 2,
     "metadata": {},
     "output_type": "execute_result"
    }
   ],
   "source": [
    "username = input(\"Login: \")\n",
    "password = input(\"Password: \")\n",
    "insta = InstagramAPI(username, password)\n",
    "insta.login()"
   ]
  },
  {
   "cell_type": "code",
   "execution_count": 3,
   "metadata": {},
   "outputs": [],
   "source": [
    "mid = ''\n",
    "id_list = []\n",
    "go = True\n",
    "insta.getProfileData()\n",
    "user = insta.LastJson['user']['pk']\n",
    "time.sleep(2)\n",
    "insta.getUserFollowers(user)\n",
    "uid = insta.LastJson['users'][21]['pk']\n",
    "time.sleep(2)\n",
    "while go:\n",
    "    insta.getUserFollowers(uid, mid)\n",
    "    temp = insta.LastJson\n",
    "    for user in temp['users']:\n",
    "        #print(f'Following {user[\"full_name\"]} user id: {user[\"pk\"]}')\n",
    "        nameid = {\n",
    "            \"full_name\": user[\"full_name\"],\n",
    "            \"id\": user[\"pk\"],\n",
    "            \"username\": user[\"username\"]\n",
    "        }\n",
    "        id_list.append(nameid)\n",
    "        # insta.follow(user['pk'])\n",
    "        # print('...Followed')\n",
    "    try:\n",
    "        mid = temp['next_max_id']\n",
    "    except:\n",
    "        # Break the loop\n",
    "        go=False\n",
    "    time.sleep(2)"
   ]
  },
  {
   "cell_type": "code",
   "execution_count": 4,
   "metadata": {},
   "outputs": [],
   "source": [
    "insta.logout()"
   ]
  },
  {
   "cell_type": "code",
   "execution_count": 9,
   "metadata": {},
   "outputs": [
    {
     "ename": "AttributeError",
     "evalue": "'InstagramAPI' object has no attribute 'user_search'",
     "output_type": "error",
     "traceback": [
      "\u001b[1;31m---------------------------------------------------------------------------\u001b[0m",
      "\u001b[1;31mAttributeError\u001b[0m                            Traceback (most recent call last)",
      "\u001b[1;32m<ipython-input-9-3d0039b6ccc6>\u001b[0m in \u001b[0;36m<module>\u001b[1;34m()\u001b[0m\n\u001b[1;32m----> 1\u001b[1;33m \u001b[0minsta\u001b[0m\u001b[1;33m.\u001b[0m\u001b[0muser_search\u001b[0m\u001b[1;33m(\u001b[0m\u001b[1;34m'tommcnalley'\u001b[0m\u001b[1;33m)\u001b[0m\u001b[1;33m\u001b[0m\u001b[0m\n\u001b[0m",
      "\u001b[1;31mAttributeError\u001b[0m: 'InstagramAPI' object has no attribute 'user_search'"
     ]
    }
   ],
   "source": [
    "insta.user_search('tommcnalley')"
   ]
  },
  {
   "cell_type": "code",
   "execution_count": 10,
   "metadata": {},
   "outputs": [
    {
     "data": {
      "text/plain": [
       "6346789096"
      ]
     },
     "execution_count": 10,
     "metadata": {},
     "output_type": "execute_result"
    }
   ],
   "source": [
    "insta.username_id"
   ]
  },
  {
   "cell_type": "code",
   "execution_count": 11,
   "metadata": {},
   "outputs": [
    {
     "name": "stdout",
     "output_type": "stream",
     "text": [
      "Request return 400 error!\n",
      "{'message': 'login_required', 'logout_reason': 2, 'status': 'fail'}\n"
     ]
    },
    {
     "data": {
      "text/plain": [
       "{'logout_reason': 2, 'message': 'login_required', 'status': 'fail'}"
      ]
     },
     "execution_count": 11,
     "metadata": {},
     "output_type": "execute_result"
    }
   ],
   "source": [
    "insta.getProfileData()\n",
    "insta.LastJson"
   ]
  },
  {
   "cell_type": "code",
   "execution_count": null,
   "metadata": {},
   "outputs": [],
   "source": []
  }
 ],
 "metadata": {
  "kernelspec": {
   "display_name": "Python [conda env:PythonData]",
   "language": "python",
   "name": "conda-env-PythonData-py"
  },
  "language_info": {
   "codemirror_mode": {
    "name": "ipython",
    "version": 3
   },
   "file_extension": ".py",
   "mimetype": "text/x-python",
   "name": "python",
   "nbconvert_exporter": "python",
   "pygments_lexer": "ipython3",
   "version": "3.6.3"
  }
 },
 "nbformat": 4,
 "nbformat_minor": 2
}
